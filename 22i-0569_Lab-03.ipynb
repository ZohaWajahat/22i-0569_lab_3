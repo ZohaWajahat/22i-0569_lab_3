{
 "cells": [
  {
   "cell_type": "markdown",
   "metadata": {
    "id": "yZUfT3i7CjcU"
   },
   "source": [
    "# Lab Task 01"
   ]
  },
  {
   "cell_type": "markdown",
   "metadata": {
    "id": "cFvXKV7FCd5E"
   },
   "source": [
    "Write a function to return True if the first and last number of a given list is same. If numbers are different then return False."
   ]
  },
  {
   "cell_type": "code",
   "execution_count": null,
   "metadata": {
    "id": "GXktR4r5Coyi"
   },
   "outputs": [],
   "source": [
    "def same_first_and_last(list1):\n",
    "    if list1[0]==list1[-1]:\n",
    "        return True\n",
    "    return False\n",
    "numbers_x = [10, 20, 30, 40, 10]\n",
    "numbers_y = [75, 65, 35, 75, 30]\n",
    "print(numbers_x)\n",
    "print(same_first_and_last(numbers_x))\n",
    "print(numbers_y)\n",
    "print(same_first_and_last(numbers_y))"
   ]
  },
  {
   "cell_type": "markdown",
   "metadata": {
    "id": "UwFZ7OjICrlQ"
   },
   "source": [
    "\n",
    "\n",
    "\n",
    "\n",
    "# Lab Task 02"
   ]
  },
  {
   "cell_type": "markdown",
   "metadata": {
    "id": "GWQ2AhPcCufC"
   },
   "source": [
    "Create two NumPy arrays of the same shape and perform element-wise addition on them.\n",
    "\n",
    "Calculate the element-wise product of two NumPy arrays."
   ]
  },
  {
   "cell_type": "code",
   "execution_count": 13,
   "metadata": {
    "id": "jZNfvManCxjQ"
   },
   "outputs": [
    {
     "name": "stdout",
     "output_type": "stream",
     "text": [
      "Elemenet wise addition of array: \n",
      "[[ 8 10 12]\n",
      " [14 16 18]]\n",
      "Elemenet wise multiplication of array: \n",
      "[[ 7 16 27]\n",
      " [40 55 72]]\n"
     ]
    }
   ],
   "source": [
    "#code here\n",
    "import numpy as np\n",
    "arr1=np.array([[1,2,3],\n",
    "             [4,5,6]])\n",
    "arr2=np.array([[7,8,9],\n",
    "             [10,11,12]])\n",
    "add_array=arr1+arr2\n",
    "print(\"Elemenet wise addition of array: \")\n",
    "print(add_array)\n",
    "mul_array=arr1*arr2\n",
    "print(\"Elemenet wise multiplication of array: \")\n",
    "print(mul_array)"
   ]
  },
  {
   "cell_type": "markdown",
   "metadata": {
    "id": "DR3RvooloecS"
   },
   "source": [
    "# Lab Task 03"
   ]
  },
  {
   "cell_type": "markdown",
   "metadata": {
    "id": "Oi-yFvItoWzc"
   },
   "source": [
    "Reshape a 1D NumPy array into a 2D array with dimensions (3, 4).\n",
    "\n",
    "Concatenate two NumPy arrays horizontally and vertically."
   ]
  },
  {
   "cell_type": "code",
   "execution_count": 26,
   "metadata": {
    "id": "c379PMYOobDK"
   },
   "outputs": [
    {
     "name": "stdout",
     "output_type": "stream",
     "text": [
      "Reshaped array in to (3, 4): \n",
      "[[ 1  2  3  4]\n",
      " [ 5  6  7  8]\n",
      " [ 9 10 11 12]]\n",
      "Horizontally Concatenated array: \n",
      "[[ 1  2  3  4 13 14 15 16]\n",
      " [ 5  6  7  8 17 18 19 20]\n",
      " [ 9 10 11 12 21 22 23 24]]\n",
      "Vertically Concatenated array: \n",
      "[[ 1  2  3  4]\n",
      " [ 5  6  7  8]\n",
      " [ 9 10 11 12]\n",
      " [13 14 15 16]\n",
      " [17 18 19 20]\n",
      " [21 22 23 24]]\n"
     ]
    }
   ],
   "source": [
    "#code here\n",
    "arr=np.array([1,2,3,4,5,6,7,8,9,10,11,12])\n",
    "reshaped=arr.reshape(3,4)\n",
    "print(\"Reshaped array in to (3, 4): \")\n",
    "print(reshaped)\n",
    "\n",
    "array1=[[13,14,15,16],\n",
    "       [17,18,19,20],\n",
    "       [21,22,23,24]]\n",
    "horizontally=np.concatenate([reshaped, array1], axis=1)\n",
    "print(\"Horizontally Concatenated array: \")\n",
    "print(horizontally)\n",
    "vertically=np.concatenate([reshaped, array1], axis=0)\n",
    "print(\"Vertically Concatenated array: \")\n",
    "print(vertically)"
   ]
  },
  {
   "cell_type": "markdown",
   "metadata": {
    "id": "QyAHL3cppQvA"
   },
   "source": [
    "# Lab Task 04\n",
    "\n"
   ]
  },
  {
   "cell_type": "markdown",
   "metadata": {
    "id": "n9ljQa5NopJD"
   },
   "source": [
    "\n",
    "## Online Store Shopping Cart\n",
    "Write a Python program to simulate the online store's shopping cart system. The program should use a while loop to provide an interactive shopping experience.\n",
    "\n",
    "\n",
    "### Tasks:\n",
    "* Initialize an empty list called shopping_cart to store items.\n",
    "* Display a welcome message and available products.\n",
    "* Loop should be iterating over AI Response Simulator and Investment decision and keep asking for user input.\n",
    "* Prompt the user to enter the number corresponding to the product they want to add to the cart.\n",
    "* Check if the user entered 'q'. If so, break the loop.\n",
    "* Convert the choice to an integer and validate it within the valid range (1 to 3).\n",
    "* Based on the user's choice, add the selected product to the shopping_cart list.\n",
    "* Display a confirmation message indicating the added product.\n",
    "* Continue the loop to allow the user to add more products or proceed to checkout.\n",
    "* After the loop ends, display the contents of the shopping cart.\n",
    "* Display a goodbye message.\n",
    "* End the program.\n"
   ]
  },
  {
   "cell_type": "code",
   "execution_count": 121,
   "metadata": {},
   "outputs": [
    {
     "name": "stdout",
     "output_type": "stream",
     "text": [
      "Welcome to xyz Shopping cart\n",
      "1. View Available products\n",
      "2. Add to the sopping cart\n",
      "3. Exit\n",
      "Enter the valid choice1\n",
      "Product ID: 1\n",
      "Product Name: T-shirt\n",
      "Product Price: 15.00\n",
      "------------------------------------------\n",
      "\n",
      "Product ID: 2\n",
      "Product Name: Coffee Mug\n",
      "Product Price: 8.00\n",
      "------------------------------------------\n",
      "\n",
      "Product ID: 3\n",
      "Product Name: Wireless Earbuds\n",
      "Product Price: 49.99\n",
      "------------------------------------------\n",
      "\n",
      "Product ID: 4\n",
      "Product Name: Novel\n",
      "Product Price: 19.95\n",
      "------------------------------------------\n",
      "\n",
      "Product ID: 5\n",
      "Product Name: Board Game\n",
      "Product Price: 24.99\n",
      "------------------------------------------\n",
      "\n",
      "Product ID: 6\n",
      "Product Name: Laptop Case\n",
      "Product Price: 35.00\n",
      "------------------------------------------\n",
      "\n",
      "Product ID: 7\n",
      "Product Name: Fitness Tracker\n",
      "Product Price: 99.99\n",
      "------------------------------------------\n",
      "\n",
      "Enter the valid choice2\n",
      "Enter the product ID you want to add: 4\n",
      "ID: 4\n",
      "Name: Novel\n",
      "Price: 19.95\n",
      "---------------------------------\n",
      "Enter 1 to confirm the order: 1\n",
      "Your product has been added to cart\n",
      "Enter the valid choice2\n",
      "Enter the product ID you want to add: 6\n",
      "ID: 6\n",
      "Name: Laptop Case\n",
      "Price: 35.00\n",
      "---------------------------------\n",
      "Enter 1 to confirm the order: 1\n",
      "Your product has been added to cart\n",
      "Enter the valid choice3\n",
      "Enter q to exit the program: q\n",
      "------------------------------------\n",
      "['Novel', '19.95', 'Laptop Case', '35.00']\n",
      "GoodBye\n"
     ]
    }
   ],
   "source": [
    "shopping_card=[]\n",
    "products = {\n",
    "    1: {\"name\": \"T-shirt\", \"price\": \"15.00\"},\n",
    "    2: {\"name\": \"Coffee Mug\", \"price\": \"8.00\"},\n",
    "    3: {\"name\": \"Wireless Earbuds\", \"price\": \"49.99\"},\n",
    "    4: {\"name\": \"Novel\", \"price\": \"19.95\"},\n",
    "    5: {\"name\": \"Board Game\", \"price\": \"24.99\"},\n",
    "    6: {\"name\": \"Laptop Case\", \"price\": \"35.00\"},\n",
    "    7: {\"name\": \"Fitness Tracker\", \"price\": \"99.99\"},\n",
    "}\n",
    "print(\"Welcome to xyz Shopping cart\")\n",
    "print(\"1. View Available products\")\n",
    "print(\"2. Add to the sopping cart\")\n",
    "print(\"3. Exit\")\n",
    "while True:\n",
    "    choices=int(input(\"Enter the valid choice\"))\n",
    "    if choices==1:\n",
    "        for product_id, product_info in products.items():\n",
    "            print(\"Product ID: \", end='')\n",
    "            print(product_id)\n",
    "            print(\"Product Name: \" + product_info[\"name\"])\n",
    "            print(\"Product Price: \" + product_info[\"price\"])\n",
    "            print(\"------------------------------------------\")\n",
    "            print()\n",
    "    elif choices==2:\n",
    "        prod=int(input(\"Enter the product ID you want to add: \"))\n",
    "        for product_id, product_info in products.items():\n",
    "            if prod==product_id:\n",
    "                print(\"ID: \", end='')\n",
    "                print(product_id)\n",
    "                print(\"Name: \" + product_info[\"name\"])\n",
    "                print(\"Price: \" + product_info[\"price\"])\n",
    "                print(\"---------------------------------\")\n",
    "                confirm=int(input(\"Enter 1 to confirm the order: \"))\n",
    "                if confirm==1:\n",
    "                    shopping_card.append(product_info[\"name\"])\n",
    "                    shopping_card.append(product_info[\"price\"])\n",
    "                    print(\"Your product has been added to cart\")\n",
    "    elif choices==3:\n",
    "        end=input(\"Enter q to exit the program: \")\n",
    "        print(\"------------------------------------------\")\n",
    "        if end==\"q\":\n",
    "            print(shopping_card)\n",
    "            print(\"GoodBye\")\n",
    "            print(\"-----------------------------------------------\")\n",
    "            break"
   ]
  },
  {
   "cell_type": "markdown",
   "metadata": {
    "id": "Dv9DtQ3jp6mq"
   },
   "source": [
    "# Lab Task 05"
   ]
  },
  {
   "cell_type": "markdown",
   "metadata": {
    "id": "2i6-zm_1ZAdn"
   },
   "source": [
    "\n",
    "## Email Classification\n",
    "Develope a tool which will classify an email.\n",
    "\n",
    "### Tasks:\n",
    "* Create a function classify_emails that takes a list of emails as an argument.\n",
    "* Inside the function, categorize emails into \"Important,\" \"Promotions,\" and \"Spam\" based on keywords and content analysis.\n",
    "* Loop through the emails and identify keywords to determine their category.\n",
    "* If an email contains keywords indicating importance, assign it as \"Important.\"\n",
    "* If an email contains keywords related to promotions or deals, assign it as \"Promotions.\"\n",
    "* If an email is suspected to be spam based on certain keywords or patterns, assign it as \"Spam.\"\n",
    "* Return three lists of emails for each category.\n",
    "* Print the lists."
   ]
  },
  {
   "cell_type": "code",
   "execution_count": 43,
   "metadata": {
    "id": "SnCGPkq-o84Z"
   },
   "outputs": [
    {
     "name": "stdout",
     "output_type": "stream",
     "text": [
      "Important Email are: \n",
      "['Important: Action required for your account', 'Meeting reminder for tomorrow']\n",
      "Promotion Emails are:\n",
      "['Special promotion: Get 50% off today only!']\n",
      "Spam Emails are:\n",
      "[\"Congratulations! You've won a free prize!\", 'Limited time offer: Buy one get one free']\n"
     ]
    }
   ],
   "source": [
    "#code here\n",
    "import nltk\n",
    "from nltk.tokenize import word_tokenize\n",
    "important_keywords=[\"urgent\", \"important\", \"action required\", \"meeting\"]\n",
    "promotion_keywords=[\"deal\", \"promotion\", \"discount\"]\n",
    "spam_keywords=[\"lottery\", \"prize\", \"free\", \"click here\"]\n",
    "important_emails=[]\n",
    "promotion_emails=[]\n",
    "spam_emails=[]\n",
    "emails = [\"Important: Action required for your account\",\n",
    "    \"Special promotion: Get 50% off today only!\",\n",
    "    \"Congratulations! You've won a free prize!\",\n",
    "    \"Meeting reminder for tomorrow\",\n",
    "    \"Limited time offer: Buy one get one free\"]\n",
    "for email in emails:\n",
    "    if any(keywords in email.lower() for keywords in important_keywords):\n",
    "        important_emails.append(email)\n",
    "    elif any(keywords in email.lower() for keywords in promotion_keywords):\n",
    "        promotion_emails.append(email)\n",
    "    elif any(keywords in email.lower() for keywords in spam_keywords):\n",
    "        spam_emails.append(email)\n",
    "print(\"Important Email are: \")\n",
    "print(important_emails)\n",
    "print(\"Promotion Emails are:\")\n",
    "print(promotion_emails)\n",
    "print(\"Spam Emails are:\")\n",
    "print(spam_emails)"
   ]
  },
  {
   "cell_type": "markdown",
   "metadata": {
    "id": "amtV-GLWpCC7"
   },
   "source": [
    "# Lab Task 06"
   ]
  },
  {
   "cell_type": "markdown",
   "metadata": {
    "id": "M2Zg-XsUpC72"
   },
   "source": [
    "## English-Spanish Dictionary\n",
    "You are creating a basic English-Spanish dictionary that allows users to look up English words and find their Spanish translations.\n",
    "\n",
    "\n",
    "### Tasks\n",
    "* Create a dictionary where English words are keys and their Spanish translations are values.\n",
    "* Ask the user to input an English word.\n",
    "* Check if the word exists in the dictionary.\n",
    "* If the word exists, print its Spanish translation.\n",
    "* If the word does not exist, inform the user that the translation is not available.\n",
    "* Implement a loop that allows the user to keep looking up words until they choose to exit.\n"
   ]
  },
  {
   "cell_type": "code",
   "execution_count": 28,
   "metadata": {
    "id": "7RKtYbMZpJdh"
   },
   "outputs": [
    {
     "name": "stdout",
     "output_type": "stream",
     "text": [
      "1. Find the spanish translation of english word\n",
      "2. Exit the program\n",
      "Enter one of the aboce choices: 1\n",
      "Enter the english word: yours\n",
      "Spanish translation of yours is tuya\n",
      "1. Find the spanish translation of english word\n",
      "2. Exit the program\n",
      "Enter one of the aboce choices: 1\n",
      "Enter the english word: school\n",
      "Spanish translation of school is not available\n",
      "1. Find the spanish translation of english word\n",
      "2. Exit the program\n",
      "Enter one of the aboce choices: 5\n",
      "Invalid choice\n",
      "1. Find the spanish translation of english word\n",
      "2. Exit the program\n",
      "Enter one of the aboce choices: 2\n",
      "Goodbye!\n"
     ]
    }
   ],
   "source": [
    "#code here\n",
    "Translation={\n",
    "    \"name\": \"Nombre\",\n",
    "    \"my\": \"mi\",\n",
    "    \"yours\": \"tuya\",\n",
    "    \"dreams\": \"Sueños\"\n",
    "}\n",
    "while True:\n",
    "    print(\"1. Find the spanish translation of english word\")\n",
    "    print(\"2. Exit the program\")\n",
    "    choice=int(input(\"Enter one of the aboce choices: \"))\n",
    "    if choice==1:\n",
    "        word=input(\"Enter the english word: \")\n",
    "        if word in Translation:\n",
    "            print(\"Spanish translation of \" + word + \" is \" + Translation[word])\n",
    "        else:\n",
    "            print(\"Spanish translation of \" + word + \" is not available\")\n",
    "    elif choice==2:\n",
    "        print(\"Goodbye!\")\n",
    "        break\n",
    "    else:\n",
    "        print(\"Invalid choice\")"
   ]
  },
  {
   "cell_type": "markdown",
   "metadata": {
    "id": "h_8wOMWitspv"
   },
   "source": [
    "# Lab Task 07"
   ]
  },
  {
   "cell_type": "markdown",
   "metadata": {
    "id": "Qq4VH1Jkts32"
   },
   "source": [
    "dataset link : https://raw.githubusercontent.com/TirendazAcademy/PANDAS-TUTORIAL/main/DataSets/vgsalesGlobale.csv\n",
    "#Exercise\n",
    "Use the dataset of Game, we have explored earlier and perform following operations.\n",
    "\n",
    "* Calculate the total global sales for all games in the dataset.\n",
    "* Find the game with the highest global sales.\n",
    "* Determine the average sales for each region (NA_Sales, EU_Sales, JP_Sales, Other_Sales).\n",
    "* Find the top 5 most popular game genres based on global sales.\n",
    "* Calculate the total sales for each genre in each region and find the most popular genre in North America (NA_Sales).\n",
    "* Display last 10 rows.\n",
    "* Determine the top 3 gaming platforms with the highest global sales.\n",
    "* Calculate the market share (percentage of global sales) for each genre.\n",
    "* Calculate the correlation coefficient between NA_Sales and EU_Sales. (.corr function)"
   ]
  },
  {
   "cell_type": "code",
   "execution_count": 46,
   "metadata": {},
   "outputs": [
    {
     "data": {
      "text/html": [
       "<div>\n",
       "<style scoped>\n",
       "    .dataframe tbody tr th:only-of-type {\n",
       "        vertical-align: middle;\n",
       "    }\n",
       "\n",
       "    .dataframe tbody tr th {\n",
       "        vertical-align: top;\n",
       "    }\n",
       "\n",
       "    .dataframe thead th {\n",
       "        text-align: right;\n",
       "    }\n",
       "</style>\n",
       "<table border=\"1\" class=\"dataframe\">\n",
       "  <thead>\n",
       "    <tr style=\"text-align: right;\">\n",
       "      <th></th>\n",
       "      <th>Rank</th>\n",
       "      <th>Name</th>\n",
       "      <th>Platform</th>\n",
       "      <th>Year</th>\n",
       "      <th>Genre</th>\n",
       "      <th>Publisher</th>\n",
       "      <th>NA_Sales</th>\n",
       "      <th>EU_Sales</th>\n",
       "      <th>JP_Sales</th>\n",
       "      <th>Other_Sales</th>\n",
       "      <th>Global_Sales</th>\n",
       "    </tr>\n",
       "  </thead>\n",
       "  <tbody>\n",
       "    <tr>\n",
       "      <th>0</th>\n",
       "      <td>1</td>\n",
       "      <td>Wii Sports</td>\n",
       "      <td>Wii</td>\n",
       "      <td>2006.0</td>\n",
       "      <td>Sports</td>\n",
       "      <td>Nintendo</td>\n",
       "      <td>41.49</td>\n",
       "      <td>29.02</td>\n",
       "      <td>3.77</td>\n",
       "      <td>8.46</td>\n",
       "      <td>82.74</td>\n",
       "    </tr>\n",
       "    <tr>\n",
       "      <th>1</th>\n",
       "      <td>2</td>\n",
       "      <td>Super Mario Bros.</td>\n",
       "      <td>NES</td>\n",
       "      <td>1985.0</td>\n",
       "      <td>Platform</td>\n",
       "      <td>Nintendo</td>\n",
       "      <td>29.08</td>\n",
       "      <td>3.58</td>\n",
       "      <td>6.81</td>\n",
       "      <td>0.77</td>\n",
       "      <td>40.24</td>\n",
       "    </tr>\n",
       "    <tr>\n",
       "      <th>2</th>\n",
       "      <td>3</td>\n",
       "      <td>Mario Kart Wii</td>\n",
       "      <td>Wii</td>\n",
       "      <td>2008.0</td>\n",
       "      <td>Racing</td>\n",
       "      <td>Nintendo</td>\n",
       "      <td>15.85</td>\n",
       "      <td>12.88</td>\n",
       "      <td>3.79</td>\n",
       "      <td>3.31</td>\n",
       "      <td>35.82</td>\n",
       "    </tr>\n",
       "    <tr>\n",
       "      <th>3</th>\n",
       "      <td>4</td>\n",
       "      <td>Wii Sports Resort</td>\n",
       "      <td>Wii</td>\n",
       "      <td>2009.0</td>\n",
       "      <td>Sports</td>\n",
       "      <td>Nintendo</td>\n",
       "      <td>15.75</td>\n",
       "      <td>11.01</td>\n",
       "      <td>3.28</td>\n",
       "      <td>2.96</td>\n",
       "      <td>33.00</td>\n",
       "    </tr>\n",
       "    <tr>\n",
       "      <th>4</th>\n",
       "      <td>5</td>\n",
       "      <td>Pokemon Red/Pokemon Blue</td>\n",
       "      <td>GB</td>\n",
       "      <td>1996.0</td>\n",
       "      <td>Role-Playing</td>\n",
       "      <td>Nintendo</td>\n",
       "      <td>11.27</td>\n",
       "      <td>8.89</td>\n",
       "      <td>10.22</td>\n",
       "      <td>1.00</td>\n",
       "      <td>31.37</td>\n",
       "    </tr>\n",
       "    <tr>\n",
       "      <th>...</th>\n",
       "      <td>...</td>\n",
       "      <td>...</td>\n",
       "      <td>...</td>\n",
       "      <td>...</td>\n",
       "      <td>...</td>\n",
       "      <td>...</td>\n",
       "      <td>...</td>\n",
       "      <td>...</td>\n",
       "      <td>...</td>\n",
       "      <td>...</td>\n",
       "      <td>...</td>\n",
       "    </tr>\n",
       "    <tr>\n",
       "      <th>16593</th>\n",
       "      <td>16596</td>\n",
       "      <td>Woody Woodpecker in Crazy Castle 5</td>\n",
       "      <td>GBA</td>\n",
       "      <td>2002.0</td>\n",
       "      <td>Platform</td>\n",
       "      <td>Kemco</td>\n",
       "      <td>0.01</td>\n",
       "      <td>0.00</td>\n",
       "      <td>0.00</td>\n",
       "      <td>0.00</td>\n",
       "      <td>0.01</td>\n",
       "    </tr>\n",
       "    <tr>\n",
       "      <th>16594</th>\n",
       "      <td>16597</td>\n",
       "      <td>Men in Black II: Alien Escape</td>\n",
       "      <td>GC</td>\n",
       "      <td>2003.0</td>\n",
       "      <td>Shooter</td>\n",
       "      <td>Infogrames</td>\n",
       "      <td>0.01</td>\n",
       "      <td>0.00</td>\n",
       "      <td>0.00</td>\n",
       "      <td>0.00</td>\n",
       "      <td>0.01</td>\n",
       "    </tr>\n",
       "    <tr>\n",
       "      <th>16595</th>\n",
       "      <td>16598</td>\n",
       "      <td>SCORE International Baja 1000: The Official Game</td>\n",
       "      <td>PS2</td>\n",
       "      <td>2008.0</td>\n",
       "      <td>Racing</td>\n",
       "      <td>Activision</td>\n",
       "      <td>0.00</td>\n",
       "      <td>0.00</td>\n",
       "      <td>0.00</td>\n",
       "      <td>0.00</td>\n",
       "      <td>0.01</td>\n",
       "    </tr>\n",
       "    <tr>\n",
       "      <th>16596</th>\n",
       "      <td>16599</td>\n",
       "      <td>Know How 2</td>\n",
       "      <td>DS</td>\n",
       "      <td>2010.0</td>\n",
       "      <td>Puzzle</td>\n",
       "      <td>7G//AMES</td>\n",
       "      <td>0.00</td>\n",
       "      <td>0.01</td>\n",
       "      <td>0.00</td>\n",
       "      <td>0.00</td>\n",
       "      <td>0.01</td>\n",
       "    </tr>\n",
       "    <tr>\n",
       "      <th>16597</th>\n",
       "      <td>16600</td>\n",
       "      <td>Spirits &amp; Spells</td>\n",
       "      <td>GBA</td>\n",
       "      <td>2003.0</td>\n",
       "      <td>Platform</td>\n",
       "      <td>Wanadoo</td>\n",
       "      <td>0.01</td>\n",
       "      <td>0.00</td>\n",
       "      <td>0.00</td>\n",
       "      <td>0.00</td>\n",
       "      <td>0.01</td>\n",
       "    </tr>\n",
       "  </tbody>\n",
       "</table>\n",
       "<p>16598 rows × 11 columns</p>\n",
       "</div>"
      ],
      "text/plain": [
       "        Rank                                              Name Platform  \\\n",
       "0          1                                        Wii Sports      Wii   \n",
       "1          2                                 Super Mario Bros.      NES   \n",
       "2          3                                    Mario Kart Wii      Wii   \n",
       "3          4                                 Wii Sports Resort      Wii   \n",
       "4          5                          Pokemon Red/Pokemon Blue       GB   \n",
       "...      ...                                               ...      ...   \n",
       "16593  16596                Woody Woodpecker in Crazy Castle 5      GBA   \n",
       "16594  16597                     Men in Black II: Alien Escape       GC   \n",
       "16595  16598  SCORE International Baja 1000: The Official Game      PS2   \n",
       "16596  16599                                        Know How 2       DS   \n",
       "16597  16600                                  Spirits & Spells      GBA   \n",
       "\n",
       "         Year         Genre   Publisher  NA_Sales  EU_Sales  JP_Sales  \\\n",
       "0      2006.0        Sports    Nintendo     41.49     29.02      3.77   \n",
       "1      1985.0      Platform    Nintendo     29.08      3.58      6.81   \n",
       "2      2008.0        Racing    Nintendo     15.85     12.88      3.79   \n",
       "3      2009.0        Sports    Nintendo     15.75     11.01      3.28   \n",
       "4      1996.0  Role-Playing    Nintendo     11.27      8.89     10.22   \n",
       "...       ...           ...         ...       ...       ...       ...   \n",
       "16593  2002.0      Platform       Kemco      0.01      0.00      0.00   \n",
       "16594  2003.0       Shooter  Infogrames      0.01      0.00      0.00   \n",
       "16595  2008.0        Racing  Activision      0.00      0.00      0.00   \n",
       "16596  2010.0        Puzzle    7G//AMES      0.00      0.01      0.00   \n",
       "16597  2003.0      Platform     Wanadoo      0.01      0.00      0.00   \n",
       "\n",
       "       Other_Sales  Global_Sales  \n",
       "0             8.46         82.74  \n",
       "1             0.77         40.24  \n",
       "2             3.31         35.82  \n",
       "3             2.96         33.00  \n",
       "4             1.00         31.37  \n",
       "...            ...           ...  \n",
       "16593         0.00          0.01  \n",
       "16594         0.00          0.01  \n",
       "16595         0.00          0.01  \n",
       "16596         0.00          0.01  \n",
       "16597         0.00          0.01  \n",
       "\n",
       "[16598 rows x 11 columns]"
      ]
     },
     "execution_count": 46,
     "metadata": {},
     "output_type": "execute_result"
    }
   ],
   "source": [
    "import pandas as pd\n",
    "url=\"https://raw.githubusercontent.com/TirendazAcademy/PANDAS-TUTORIAL/main/DataSets/vgsalesGlobale.csv\"\n",
    "data=pd.read_csv(url,sep=',',encoding='utf-8')\n",
    "data"
   ]
  },
  {
   "cell_type": "code",
   "execution_count": 87,
   "metadata": {
    "scrolled": true
   },
   "outputs": [
    {
     "name": "stdout",
     "output_type": "stream",
     "text": [
      "Sum of Global Sales = 8920.44\n"
     ]
    }
   ],
   "source": [
    "df=pd.DataFrame(data)\n",
    "Global_Sale_sum=df[\"Global_Sales\"].sum()\n",
    "print(\"Sum of Global Sales = \", end='')\n",
    "print(Global_Sale_sum)"
   ]
  },
  {
   "cell_type": "code",
   "execution_count": 68,
   "metadata": {},
   "outputs": [
    {
     "name": "stdout",
     "output_type": "stream",
     "text": [
      "Game with highest Global Sales: Wii Sports\n"
     ]
    }
   ],
   "source": [
    "maximum=df[\"Global_Sales\"].idxmax()\n",
    "print(\"Game with highest Global Sales: \", end='')\n",
    "print(df.iloc[maximum][\"Name\"])"
   ]
  },
  {
   "cell_type": "code",
   "execution_count": 74,
   "metadata": {},
   "outputs": [
    {
     "name": "stdout",
     "output_type": "stream",
     "text": [
      "Average NA_Sales = 0.26466742981082064\n",
      "Average EU_Sales = 0.14665200626581515\n",
      "Average JP_Sales = 0.077781660441017\n",
      "Average Other_Sales = 0.0480630196409206\n"
     ]
    }
   ],
   "source": [
    "NA_Sales=df[\"NA_Sales\"].mean()\n",
    "print(\"Average NA_Sales = \", end='')\n",
    "print(NA_Sales)\n",
    "EU_Sales=df[\"EU_Sales\"].mean()\n",
    "print(\"Average EU_Sales = \", end='')\n",
    "print(EU_Sales)\n",
    "JP_Sales=df[\"JP_Sales\"].mean()\n",
    "print(\"Average JP_Sales = \", end='')\n",
    "print(JP_Sales)\n",
    "Other_Sales=df[\"Other_Sales\"].mean()\n",
    "print(\"Average Other_Sales = \", end='')\n",
    "print(Other_Sales)"
   ]
  },
  {
   "cell_type": "code",
   "execution_count": 73,
   "metadata": {},
   "outputs": [
    {
     "name": "stdout",
     "output_type": "stream",
     "text": [
      "Top 5 games according to Global Sales\n",
      "0                  Wii Sports\n",
      "1           Super Mario Bros.\n",
      "2              Mario Kart Wii\n",
      "3           Wii Sports Resort\n",
      "4    Pokemon Red/Pokemon Blue\n",
      "Name: Name, dtype: object\n"
     ]
    }
   ],
   "source": [
    "print(\"Top 5 games according to Global Sales\")\n",
    "print(df.head()[\"Name\"])"
   ]
  },
  {
   "cell_type": "code",
   "execution_count": 77,
   "metadata": {},
   "outputs": [
    {
     "name": "stdout",
     "output_type": "stream",
     "text": [
      "Sum of NA_Sales = 4392.950000000001\n",
      "Sum of EU_Sales = 2434.1299999999997\n",
      "Sum of JP_Sales = 1291.0200000000002\n",
      "Sum of Other_Sales = 797.7500000000001\n",
      "Game with highest North America Sales: Wii Sports\n"
     ]
    }
   ],
   "source": [
    "NA_Sales_sum=df[\"NA_Sales\"].sum()\n",
    "print(\"Sum of NA_Sales = \", end='')\n",
    "print(NA_Sales_sum)\n",
    "EU_Sales_sum=df[\"EU_Sales\"].sum()\n",
    "print(\"Sum of EU_Sales = \", end='')\n",
    "print(EU_Sales_sum)\n",
    "JP_Sales_sum=df[\"JP_Sales\"].sum()\n",
    "print(\"Sum of JP_Sales = \", end='')\n",
    "print(JP_Sales_sum)\n",
    "Other_Sales_sum=df[\"Other_Sales\"].sum()\n",
    "print(\"Sum of Other_Sales = \", end='')\n",
    "print(Other_Sales_sum)\n",
    "\n",
    "max_NA_sales=df[\"NA_Sales\"].idxmax()\n",
    "print(\"Game with highest North America Sales: \", end='')\n",
    "print(df.iloc[max_NA_sales][\"Name\"])"
   ]
  },
  {
   "cell_type": "code",
   "execution_count": 86,
   "metadata": {},
   "outputs": [
    {
     "name": "stdout",
     "output_type": "stream",
     "text": [
      "Top 3 gaming platform according to Global Sales\n",
      "Platform\n",
      "PS2     1255.64\n",
      "X360     979.96\n",
      "PS3      957.84\n",
      "Name: Global_Sales, dtype: float64\n"
     ]
    }
   ],
   "source": [
    "platform_sales=df.groupby('Platform')['Global_Sales'].sum()\n",
    "sorted_platforms=platform_sales.sort_values(ascending=False)\n",
    "print(\"Top 3 gaming platform according to Global Sales\")\n",
    "print(sorted_platforms.head(3))"
   ]
  },
  {
   "cell_type": "code",
   "execution_count": 88,
   "metadata": {},
   "outputs": [
    {
     "name": "stdout",
     "output_type": "stream",
     "text": [
      "Market share of each genre: \n",
      "Genre\n",
      "Action          19.631094\n",
      "Adventure        2.679688\n",
      "Fighting         5.032375\n",
      "Misc             9.079821\n",
      "Platform         9.319832\n",
      "Puzzle           2.745941\n",
      "Racing           8.206322\n",
      "Role-Playing    10.396012\n",
      "Shooter         11.629135\n",
      "Simulation       4.396644\n",
      "Sports          14.920004\n",
      "Strategy         1.963132\n",
      "Name: Global_Sales, dtype: float64\n"
     ]
    }
   ],
   "source": [
    "genre_sales=df.groupby('Genre')['Global_Sales'].sum()\n",
    "market_share=(genre_sales/Global_Sale_sum)*100\n",
    "print(\"Market share of each genre: \")\n",
    "print(market_share)"
   ]
  },
  {
   "cell_type": "code",
   "execution_count": 90,
   "metadata": {},
   "outputs": [
    {
     "name": "stdout",
     "output_type": "stream",
     "text": [
      "Correaltion between NA_Sales and EU_Sales: 0.7677267483702636\n"
     ]
    }
   ],
   "source": [
    "correlation=df['NA_Sales'].corr(df['EU_Sales'])\n",
    "print(\"Correaltion between NA_Sales and EU_Sales: \", end='')\n",
    "print(correlation)"
   ]
  },
  {
   "cell_type": "code",
   "execution_count": null,
   "metadata": {},
   "outputs": [],
   "source": []
  }
 ],
 "metadata": {
  "colab": {
   "provenance": []
  },
  "kernelspec": {
   "display_name": "Python 3 (ipykernel)",
   "language": "python",
   "name": "python3"
  },
  "language_info": {
   "codemirror_mode": {
    "name": "ipython",
    "version": 3
   },
   "file_extension": ".py",
   "mimetype": "text/x-python",
   "name": "python",
   "nbconvert_exporter": "python",
   "pygments_lexer": "ipython3",
   "version": "3.11.5"
  }
 },
 "nbformat": 4,
 "nbformat_minor": 1
}
